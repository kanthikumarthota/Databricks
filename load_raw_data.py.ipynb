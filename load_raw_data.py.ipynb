{
 "cells": [
  {
   "cell_type": "code",
   "execution_count": 0,
   "metadata": {
    "application/vnd.databricks.v1+cell": {
     "cellMetadata": {
      "byteLimit": 2048000,
      "rowLimit": 10000
     },
     "inputWidgets": {},
     "nuid": "3d30e166-4a4c-4624-94c4-e5f4af3e1d76",
     "showTitle": false,
     "tableResultSettingsMap": {},
     "title": ""
    }
   },
   "outputs": [],
   "source": [
    "from pyspark.sql import SparkSession\n",
    "from pyspark.sql.functions import current_timestamp\n",
    "from pyspark.sql.types import StructType, StructField, StringType\n",
    "\n",
    "# Simulated data\n",
    "data = [\n",
    "    (\"CUST001\", \"Alice\", \"NY\", \"alice@example.com\", \"CRM\"),\n",
    "    (\"CUST002\", \"Bob\", \"CA\", \"bob@example.com\", \"CRM\"),\n",
    "    (\"CUST003\", \"Carol\", \"TX\", \"carol@example.com\", \"CRM\")\n",
    "]\n",
    "\n",
    "schema = StructType([\n",
    "    StructField(\"Customer_ID\", StringType(), True),\n",
    "    StructField(\"Name\", StringType(), True),\n",
    "    StructField(\"State\", StringType(), True),\n",
    "    StructField(\"Email\", StringType(), True),\n",
    "    StructField(\"Source_System\", StringType(), True)\n",
    "])\n",
    "\n",
    "df = spark.createDataFrame(data, schema).withColumn(\"Load_Timestamp\", current_timestamp())\n",
    "\n",
    "# Save as a Delta table\n",
    "df.write.format(\"delta\").mode(\"overwrite\").saveAsTable(\"staging.customer_raw\")\n"
   ]
  }
 ],
 "metadata": {
  "application/vnd.databricks.v1+notebook": {
   "computePreferences": null,
   "dashboards": [],
   "environmentMetadata": {
    "base_environment": "",
    "environment_version": "2"
   },
   "inputWidgetPreferences": null,
   "language": "python",
   "notebookMetadata": {
    "pythonIndentUnit": 4
   },
   "notebookName": "load_raw_data.py",
   "widgets": {}
  },
  "language_info": {
   "name": "python"
  }
 },
 "nbformat": 4,
 "nbformat_minor": 0
}
