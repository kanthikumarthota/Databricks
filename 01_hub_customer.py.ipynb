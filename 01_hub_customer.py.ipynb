{
 "cells": [
  {
   "cell_type": "code",
   "execution_count": 0,
   "metadata": {
    "application/vnd.databricks.v1+cell": {
     "cellMetadata": {
      "byteLimit": 2048000,
      "rowLimit": 10000
     },
     "inputWidgets": {},
     "nuid": "31b0cb3a-0cae-4e03-a37c-1f1ac887ea64",
     "showTitle": false,
     "tableResultSettingsMap": {},
     "title": ""
    }
   },
   "outputs": [],
   "source": [
    "@dlt.table(name=\"hub_customer\", comment=\"Hub table with unique customer keys\")\n",
    "def hub_customer():\n",
    "    from pyspark.sql.functions import sha2, col\n",
    "\n",
    "    df = dlt.read_stream(\"customer_staging\")\n",
    "\n",
    "    return (\n",
    "        df\n",
    "        .withColumn(\"Customer_HK\", sha2(col(\"Customer_ID\"), 256))\n",
    "        .withColumn(\"Load_Date\", col(\"Load_Timestamp\"))\n",
    "        .withColumn(\"Record_Source\", col(\"Source_System\"))\n",
    "        .select(\"Customer_HK\", \"Customer_ID\", \"Load_Date\", \"Record_Source\")\n",
    "        .dropDuplicates([\"Customer_HK\"])\n",
    "    )\n"
   ]
  }
 ],
 "metadata": {
  "application/vnd.databricks.v1+notebook": {
   "computePreferences": null,
   "dashboards": [],
   "environmentMetadata": {
    "base_environment": "",
    "environment_version": "2"
   },
   "inputWidgetPreferences": null,
   "language": "python",
   "notebookMetadata": {
    "pythonIndentUnit": 4
   },
   "notebookName": "01_hub_customer.py",
   "widgets": {}
  },
  "language_info": {
   "name": "python"
  }
 },
 "nbformat": 4,
 "nbformat_minor": 0
}
