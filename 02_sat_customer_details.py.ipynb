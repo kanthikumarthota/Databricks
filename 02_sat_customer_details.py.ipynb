{
 "cells": [
  {
   "cell_type": "code",
   "execution_count": 0,
   "metadata": {
    "application/vnd.databricks.v1+cell": {
     "cellMetadata": {
      "byteLimit": 2048000,
      "rowLimit": 10000
     },
     "inputWidgets": {},
     "nuid": "4a07fffd-90e7-4daf-9e43-02508773077c",
     "showTitle": false,
     "tableResultSettingsMap": {},
     "title": ""
    }
   },
   "outputs": [],
   "source": [
    "@dlt.table(name=\"sat_customer_details\", comment=\"Satellite table with change tracking\")\n",
    "def sat_customer_details():\n",
    "    from pyspark.sql.functions import sha2, concat_ws, col\n",
    "\n",
    "    df = dlt.read_stream(\"customer_staging\")\n",
    "\n",
    "    return (\n",
    "        df\n",
    "        .withColumn(\"Customer_HK\", sha2(col(\"Customer_ID\"), 256))\n",
    "        .withColumn(\"HashDiff\", sha2(concat_ws(\"||\", col(\"Name\"), col(\"State\"), col(\"Email\")), 256))\n",
    "        .withColumn(\"Load_Date\", col(\"Load_Timestamp\"))\n",
    "        .withColumn(\"Record_Source\", col(\"Source_System\"))\n",
    "        .select(\"Customer_HK\", \"HashDiff\", \"Name\", \"State\", \"Email\", \"Load_Date\", \"Record_Source\")\n",
    "    )\n"
   ]
  }
 ],
 "metadata": {
  "application/vnd.databricks.v1+notebook": {
   "computePreferences": null,
   "dashboards": [],
   "environmentMetadata": {
    "base_environment": "",
    "environment_version": "2"
   },
   "inputWidgetPreferences": null,
   "language": "python",
   "notebookMetadata": {
    "pythonIndentUnit": 4
   },
   "notebookName": "02_sat_customer_details.py",
   "widgets": {}
  },
  "language_info": {
   "name": "python"
  }
 },
 "nbformat": 4,
 "nbformat_minor": 0
}
