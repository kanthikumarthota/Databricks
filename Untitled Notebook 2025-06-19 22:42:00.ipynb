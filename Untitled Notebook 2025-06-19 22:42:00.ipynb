{
 "cells": [
  {
   "cell_type": "code",
   "execution_count": 0,
   "metadata": {
    "application/vnd.databricks.v1+cell": {
     "cellMetadata": {
      "byteLimit": 2048000,
      "rowLimit": 10000
     },
     "inputWidgets": {},
     "nuid": "81e27b5f-059e-47ed-80c2-0bc084c471d3",
     "showTitle": false,
     "tableResultSettingsMap": {},
     "title": ""
    }
   },
   "outputs": [],
   "source": [
    "# Simulate raw streaming customer data (Delta)\n",
    "from pyspark.sql import SparkSession\n",
    "from pyspark.sql.functions import current_timestamp\n",
    "from pyspark.sql.types import *\n",
    "\n",
    "spark = SparkSession.builder.getOrCreate()\n",
    "\n",
    "data = [\n",
    "    (\"CUST001\", \"Alice\", \"NY\", \"alice@example.com\", \"CRM\"),\n",
    "    (\"CUST002\", \"Bob\", \"CA\", \"bob@example.com\", \"CRM\"),\n",
    "    (\"CUST003\", \"Carol\", \"TX\", \"carol@example.com\", \"CRM\"),\n",
    "]\n",
    "\n",
    "schema = StructType([\n",
    "    StructField(\"Customer_ID\", StringType(), True),\n",
    "    StructField(\"Name\", StringType(), True),\n",
    "    StructField(\"State\", StringType(), True),\n",
    "    StructField(\"Email\", StringType(), True),\n",
    "    StructField(\"Source_System\", StringType(), True),\n",
    "])\n",
    "\n",
    "df = spark.createDataFrame(data, schema).withColumn(\"Load_Timestamp\", current_timestamp())\n",
    "\n",
    "df.write.format(\"delta\").mode(\"overwrite\").save(\"/mnt/data/staging/customer_raw\")\n"
   ]
  }
 ],
 "metadata": {
  "application/vnd.databricks.v1+notebook": {
   "computePreferences": null,
   "dashboards": [],
   "environmentMetadata": {
    "base_environment": "",
    "environment_version": "2"
   },
   "inputWidgetPreferences": null,
   "language": "python",
   "notebookMetadata": {
    "pythonIndentUnit": 4
   },
   "notebookName": "Untitled Notebook 2025-06-19 22:42:00",
   "widgets": {}
  },
  "language_info": {
   "name": "python"
  }
 },
 "nbformat": 4,
 "nbformat_minor": 0
}
